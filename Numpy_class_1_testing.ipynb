{
 "cells": [
  {
   "cell_type": "markdown",
   "metadata": {
    "tags": []
   },
   "source": [
    " ## babar"
   ]
  },
  {
   "cell_type": "code",
   "execution_count": null,
   "metadata": {},
   "outputs": [],
   "source": []
  },
  {
   "cell_type": "code",
   "execution_count": 3,
   "metadata": {},
   "outputs": [],
   "source": [
    "# Numpy calls 1 with doc+ copilaot +sir rizwan +2nd eddition book\n",
    "\n",
    "import numpy as np"
   ]
  },
  {
   "cell_type": "code",
   "execution_count": 5,
   "metadata": {
    "tags": []
   },
   "outputs": [
    {
     "data": {
      "text/plain": [
       "'1.24.3'"
      ]
     },
     "execution_count": 5,
     "metadata": {},
     "output_type": "execute_result"
    }
   ],
   "source": [
    "np.__version__"
   ]
  },
  {
   "cell_type": "code",
   "execution_count": 7,
   "metadata": {
    "tags": []
   },
   "outputs": [
    {
     "name": "stdout",
     "output_type": "stream",
     "text": [
      " Volume in drive D has no label.\n",
      " Volume Serial Number is CCD6-877D\n",
      "\n",
      " Directory of D:\\DS(5th Semester)\\Data Science\\Numpy for Data Science\n",
      "\n",
      "29/02/2024  07:46 am    <DIR>          .\n",
      "28/02/2024  11:29 am    <DIR>          ..\n",
      "28/02/2024  11:50 am    <DIR>          .ipynb_checkpoints\n",
      "28/02/2024  11:48 am             2,804 Numpy_class_1.py\n",
      "29/02/2024  07:46 am             3,319 Numpy_class_1_testing.ipynb\n",
      "28/02/2024  11:31 am                29 README.md\n",
      "               3 File(s)          6,152 bytes\n",
      "               3 Dir(s)  74,018,930,688 bytes free\n"
     ]
    }
   ],
   "source": [
    "ls"
   ]
  },
  {
   "cell_type": "code",
   "execution_count": null,
   "metadata": {},
   "outputs": [],
   "source": []
  },
  {
   "cell_type": "code",
   "execution_count": 10,
   "metadata": {
    "tags": []
   },
   "outputs": [
    {
     "data": {
      "text/plain": [
       "['In',\n",
       " 'Out',\n",
       " '_',\n",
       " '_5',\n",
       " '_8',\n",
       " '__',\n",
       " '___',\n",
       " '__builtin__',\n",
       " '__builtins__',\n",
       " '__doc__',\n",
       " '__loader__',\n",
       " '__name__',\n",
       " '__package__',\n",
       " '__session__',\n",
       " '__spec__',\n",
       " '_dh',\n",
       " '_exit_code',\n",
       " '_i',\n",
       " '_i1',\n",
       " '_i10',\n",
       " '_i2',\n",
       " '_i3',\n",
       " '_i4',\n",
       " '_i5',\n",
       " '_i6',\n",
       " '_i7',\n",
       " '_i8',\n",
       " '_i9',\n",
       " '_ih',\n",
       " '_ii',\n",
       " '_iii',\n",
       " '_oh',\n",
       " 'exit',\n",
       " 'get_ipython',\n",
       " 'np',\n",
       " 'open',\n",
       " 'quit']"
      ]
     },
     "execution_count": 10,
     "metadata": {},
     "output_type": "execute_result"
    }
   ],
   "source": [
    "dir()"
   ]
  },
  {
   "cell_type": "markdown",
   "metadata": {},
   "source": [
    "## list vs array\n",
    "list : we  can store multiple data types in a list but not in array"
   ]
  },
  {
   "cell_type": "code",
   "execution_count": 72,
   "metadata": {
    "tags": []
   },
   "outputs": [
    {
     "name": "stdout",
     "output_type": "stream",
     "text": [
      "<class 'list'> and it value is  []\n",
      "[1, 2, 3, 4, 1, 2, 3, 4]\n",
      "[2 4 6 8]\n"
     ]
    }
   ],
   "source": [
    "# ------------------list -------------------------\\\n",
    "# by default list is ematy \n",
    "l=list()\n",
    "print(type(l),\"and it value is \",l)\n",
    "# and we cannot apply matematialy opration on list at a time like this blow example \n",
    "mylist=[1,2,3,4,]\n",
    "new_list=mylist*2  \n",
    "print(new_list) # its answer is wrong \n",
    "\n",
    "# list?\n",
    "\n",
    "# ------but same on array----------\n",
    "arr=np.array(mylist)\n",
    "new_arr=arr*2 \n",
    "print(new_arr) # its answer is correct "
   ]
  },
  {
   "cell_type": "markdown",
   "metadata": {
    "tags": []
   },
   "source": [
    "##  Numpy array"
   ]
  },
  {
   "cell_type": "code",
   "execution_count": 49,
   "metadata": {
    "tags": []
   },
   "outputs": [
    {
     "name": "stdout",
     "output_type": "stream",
     "text": [
      "1\n",
      "['1' '2' '3' '4' 'babar' 'True']\n",
      "<class 'numpy.ndarray'>\n",
      "size of array of b is  6 we can check this  6\n",
      "size of ites in array is  44\n"
     ]
    }
   ],
   "source": [
    "# how to create numpy array \n",
    "a= np.array(1)\n",
    "print(a)\n",
    "# To create an ndarray, we can pass a list, tuple or any array-like object into the array() method, and it will be converted into an ndarray:\n",
    "b=np.array([1,2,3,4,\"babar\",True])  # here we pass a list and that convert into a ndaraay\n",
    "print(b)\n",
    "print(type(b))\n",
    "print(\"size of array of b is \",np.size(b),\"we can check this \", b.size)\n",
    "print(\"size of ites in array is \",b.itemsize)"
   ]
  },
  {
   "cell_type": "code",
   "execution_count": 67,
   "metadata": {
    "tags": []
   },
   "outputs": [
    {
     "name": "stdout",
     "output_type": "stream",
     "text": [
      "the itemsize of  1 is 4\n",
      "the itemsize of  2 is 4\n",
      "the itemsize of  3 is 4\n",
      "the itemsize of  4 is 4\n",
      "the itemsize of  babar is 20\n",
      "the itemsize of  True is 16\n",
      "and total size of \n"
     ]
    }
   ],
   "source": [
    "b.itemsize # is tell us how many byetes store in memory  of each element of arreay \n",
    "# if i wnat to check each element of item size then we use loop like \n",
    "\n",
    "for i in b:\n",
    "    print(\"the itemsize of \",i,\"is\",i.itemsize )\n",
    "print(\"and total size of \")"
   ]
  },
  {
   "cell_type": "code",
   "execution_count": null,
   "metadata": {
    "tags": []
   },
   "outputs": [],
   "source": []
  },
  {
   "cell_type": "code",
   "execution_count": null,
   "metadata": {
    "tags": []
   },
   "outputs": [],
   "source": []
  },
  {
   "cell_type": "code",
   "execution_count": null,
   "metadata": {
    "tags": []
   },
   "outputs": [],
   "source": []
  },
  {
   "cell_type": "code",
   "execution_count": null,
   "metadata": {
    "tags": []
   },
   "outputs": [],
   "source": []
  },
  {
   "cell_type": "code",
   "execution_count": null,
   "metadata": {
    "tags": []
   },
   "outputs": [],
   "source": []
  },
  {
   "cell_type": "code",
   "execution_count": null,
   "metadata": {
    "tags": []
   },
   "outputs": [],
   "source": []
  },
  {
   "cell_type": "code",
   "execution_count": null,
   "metadata": {
    "tags": []
   },
   "outputs": [],
   "source": []
  },
  {
   "cell_type": "code",
   "execution_count": null,
   "metadata": {},
   "outputs": [],
   "source": []
  }
 ],
 "metadata": {
  "kernelspec": {
   "display_name": "Python 3 (ipykernel)",
   "language": "python",
   "name": "python3"
  },
  "language_info": {
   "codemirror_mode": {
    "name": "ipython",
    "version": 3
   },
   "file_extension": ".py",
   "mimetype": "text/x-python",
   "name": "python",
   "nbconvert_exporter": "python",
   "pygments_lexer": "ipython3",
   "version": "3.11.5"
  }
 },
 "nbformat": 4,
 "nbformat_minor": 4
}
