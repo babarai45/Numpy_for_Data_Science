{
 "cells": [
  {
   "cell_type": "code",
   "execution_count": 2,
   "id": "f5f6cfdd-6cb9-4238-8acd-c3518cae9d64",
   "metadata": {},
   "outputs": [],
   "source": [
    "# libarys for working of matrix"
   ]
  },
  {
   "cell_type": "code",
   "execution_count": 29,
   "id": "d5199bd6-a7f8-48e0-b79b-62314d723d31",
   "metadata": {},
   "outputs": [],
   "source": [
    "import numpy as np\n",
    "import sympy as sp\n",
    "from IPython import display"
   ]
  },
  {
   "cell_type": "code",
   "execution_count": 30,
   "id": "0469fad6-c0db-4115-b952-3c80a71ed436",
   "metadata": {},
   "outputs": [
    {
     "name": "stdout",
     "output_type": "stream",
     "text": [
      "arr1 is [1 2] its type is <class 'numpy.ndarray'>  and its Dimension is 1 and \n",
      "it size is 2 and shape is (2,)\n"
     ]
    }
   ],
   "source": [
    "arr1 = np.array([1,2])\n",
    "print(f'''arr1 is {arr1} its type is {type(arr1)}  and its Dimension is {arr1.ndim} and \n",
    "it size is {arr1.size} and shape is {arr1.shape}''')"
   ]
  },
  {
   "cell_type": "code",
   "execution_count": 31,
   "id": "cd3981b4-ce02-4dc0-90b5-31260a2e638e",
   "metadata": {},
   "outputs": [
    {
     "name": "stdout",
     "output_type": "stream",
     "text": [
      "arr2 is [3 4] its type is <class 'numpy.ndarray'>  and its Dimension is 1 and \n",
      "it size is 2 and shape is (2,)\n"
     ]
    }
   ],
   "source": [
    "arr2 = np.array([3,4])\n",
    "print(f'''arr2 is {arr2} its type is {type(arr2)}  and its Dimension is {arr2.ndim} and \n",
    "it size is {arr2.size} and shape is {arr2.shape}''')"
   ]
  },
  {
   "cell_type": "code",
   "execution_count": 32,
   "id": "045a69fc-a40b-44cf-9f76-8766d68e75dd",
   "metadata": {},
   "outputs": [],
   "source": [
    "#  addition  both of them so it add as element now  \n",
    "arr=arr1+arr2"
   ]
  },
  {
   "cell_type": "code",
   "execution_count": 33,
   "id": "f1d31953-ff6b-44f3-b2f7-22394200221d",
   "metadata": {},
   "outputs": [
    {
     "data": {
      "text/plain": [
       "array([4, 6])"
      ]
     },
     "execution_count": 33,
     "metadata": {},
     "output_type": "execute_result"
    }
   ],
   "source": [
    "arr"
   ]
  },
  {
   "cell_type": "code",
   "execution_count": 34,
   "id": "53493cf3-9b80-4bbc-a8ca-76f52deeca84",
   "metadata": {},
   "outputs": [],
   "source": [
    "# substraction\n",
    "arr=arr1-arr2"
   ]
  },
  {
   "cell_type": "code",
   "execution_count": 35,
   "id": "41d1bd7f-f8d1-49e8-8022-b500726ec70b",
   "metadata": {},
   "outputs": [
    {
     "data": {
      "text/plain": [
       "array([-2, -2])"
      ]
     },
     "execution_count": 35,
     "metadata": {},
     "output_type": "execute_result"
    }
   ],
   "source": [
    "arr"
   ]
  },
  {
   "cell_type": "code",
   "execution_count": 36,
   "id": "4b27da73-c36b-46d8-a6dd-b9cd9d989e7e",
   "metadata": {},
   "outputs": [
    {
     "data": {
      "text/plain": [
       "array([3, 8])"
      ]
     },
     "execution_count": 36,
     "metadata": {},
     "output_type": "execute_result"
    }
   ],
   "source": [
    "# Multiplication \n",
    "arr1*arr2"
   ]
  },
  {
   "cell_type": "code",
   "execution_count": 37,
   "id": "04e37fc4-0a97-4af8-b58c-8bdf86ead2d0",
   "metadata": {},
   "outputs": [
    {
     "data": {
      "text/plain": [
       "array([0.33333333, 0.5       ])"
      ]
     },
     "execution_count": 37,
     "metadata": {},
     "output_type": "execute_result"
    }
   ],
   "source": [
    "# division \n",
    "arr1/arr2"
   ]
  },
  {
   "cell_type": "code",
   "execution_count": 38,
   "id": "d5bd3603-223e-406f-b90c-25d300786523",
   "metadata": {},
   "outputs": [
    {
     "data": {
      "text/plain": [
       "array([ 5, 10])"
      ]
     },
     "execution_count": 38,
     "metadata": {},
     "output_type": "execute_result"
    }
   ],
   "source": [
    "# mutlpication with outer element \n",
    "5*arr1"
   ]
  },
  {
   "cell_type": "code",
   "execution_count": 39,
   "id": "263bf90a-9565-42a2-9f5a-11fac4e41842",
   "metadata": {},
   "outputs": [
    {
     "data": {
      "text/latex": [
       "$\\displaystyle \\left[\\begin{matrix}1\\\\2\\end{matrix}\\right]$"
      ],
      "text/plain": [
       "Matrix([\n",
       "[1],\n",
       "[2]])"
      ]
     },
     "execution_count": 39,
     "metadata": {},
     "output_type": "execute_result"
    }
   ],
   "source": [
    "# convert into matrix \n",
    "# for this we have to import libary of sympy it is mathematics libary \n",
    "a=sp.Matrix(arr1)\n",
    "a"
   ]
  },
  {
   "cell_type": "code",
   "execution_count": 40,
   "id": "629c8a45-9c56-4282-b7b0-bc6f17b3ae65",
   "metadata": {},
   "outputs": [
    {
     "data": {
      "text/latex": [
       "$\\displaystyle \\left[\\begin{matrix}3\\\\4\\end{matrix}\\right]$"
      ],
      "text/plain": [
       "Matrix([\n",
       "[3],\n",
       "[4]])"
      ]
     },
     "execution_count": 40,
     "metadata": {},
     "output_type": "execute_result"
    }
   ],
   "source": [
    "b=sp.Matrix(arr2)\n",
    "b"
   ]
  },
  {
   "cell_type": "code",
   "execution_count": 41,
   "id": "2c245ea6-b46a-42b0-b9a3-5b7a9da9902d",
   "metadata": {},
   "outputs": [
    {
     "data": {
      "text/latex": [
       "$\\displaystyle \\left[\\begin{matrix}4\\\\6\\end{matrix}\\right]$"
      ],
      "text/plain": [
       "Matrix([\n",
       "[4],\n",
       "[6]])"
      ]
     },
     "execution_count": 41,
     "metadata": {},
     "output_type": "execute_result"
    }
   ],
   "source": [
    "c=a+b\n",
    "c"
   ]
  },
  {
   "cell_type": "code",
   "execution_count": 42,
   "id": "16e3f349-7013-423a-a0ee-1cde82a8f2ed",
   "metadata": {},
   "outputs": [],
   "source": [
    "two_d_arr= np.array(\n",
    "    [\n",
    "        [1,2],\n",
    "        [3,7]\n",
    "    ]\n",
    ")"
   ]
  },
  {
   "cell_type": "code",
   "execution_count": 43,
   "id": "32dbe1ac-bf82-4e81-b400-f4d33b0cf9f3",
   "metadata": {},
   "outputs": [
    {
     "data": {
      "text/plain": [
       "array([[1, 2],\n",
       "       [3, 7]])"
      ]
     },
     "execution_count": 43,
     "metadata": {},
     "output_type": "execute_result"
    }
   ],
   "source": [
    "two_d_arr"
   ]
  },
  {
   "cell_type": "code",
   "execution_count": 44,
   "id": "ba0fec1b-b5aa-41fc-a80f-8c6a4a303139",
   "metadata": {},
   "outputs": [
    {
     "data": {
      "text/plain": [
       "2"
      ]
     },
     "execution_count": 44,
     "metadata": {},
     "output_type": "execute_result"
    }
   ],
   "source": [
    "two_d_arr.ndim"
   ]
  },
  {
   "cell_type": "code",
   "execution_count": 45,
   "id": "2ec5edd7-024d-4d6d-8e9e-2c080bb71759",
   "metadata": {},
   "outputs": [],
   "source": [
    "m2=sp.Matrix(two_d_arr)"
   ]
  },
  {
   "cell_type": "code",
   "execution_count": 46,
   "id": "7d163ba2-399c-4d84-9703-b919491f7fd3",
   "metadata": {},
   "outputs": [
    {
     "data": {
      "text/latex": [
       "$\\displaystyle \\left[\\begin{matrix}1 & 2\\\\3 & 7\\end{matrix}\\right]$"
      ],
      "text/plain": [
       "Matrix([\n",
       "[1, 2],\n",
       "[3, 7]])"
      ]
     },
     "execution_count": 46,
     "metadata": {},
     "output_type": "execute_result"
    }
   ],
   "source": [
    "m2"
   ]
  },
  {
   "cell_type": "code",
   "execution_count": 47,
   "id": "35fa10c1-0a78-4c0d-9626-08fa1df32c70",
   "metadata": {},
   "outputs": [
    {
     "data": {
      "text/latex": [
       "$\\displaystyle \\left[\\begin{matrix}3 & 6\\\\9 & 21\\end{matrix}\\right]$"
      ],
      "text/plain": [
       "Matrix([\n",
       "[3,  6],\n",
       "[9, 21]])"
      ]
     },
     "execution_count": 47,
     "metadata": {},
     "output_type": "execute_result"
    }
   ],
   "source": [
    "m3=m2*3\n",
    "m3"
   ]
  },
  {
   "cell_type": "code",
   "execution_count": 48,
   "id": "9e1f2d9a-40fe-4f9a-a2cc-3dd1e65a95fc",
   "metadata": {},
   "outputs": [
    {
     "data": {
      "text/latex": [
       "$\\displaystyle \\left[\\begin{matrix}4 & 8\\\\12 & 28\\end{matrix}\\right]$"
      ],
      "text/plain": [
       "Matrix([\n",
       "[ 4,  8],\n",
       "[12, 28]])"
      ]
     },
     "execution_count": 48,
     "metadata": {},
     "output_type": "execute_result"
    }
   ],
   "source": [
    "m4=m2+m3\n",
    "m4"
   ]
  },
  {
   "cell_type": "code",
   "execution_count": 49,
   "id": "15b11187-4c24-4d6b-8f6a-4ea9407692b5",
   "metadata": {},
   "outputs": [],
   "source": [
    "# now orignal work with matrix "
   ]
  },
  {
   "cell_type": "code",
   "execution_count": 50,
   "id": "53beaaae-8bb8-4347-bcd2-6d52beae05dc",
   "metadata": {},
   "outputs": [],
   "source": [
    "ar1=np.array(                      # it is arry is 2d array\n",
    "    [ \n",
    "        [1,2],\n",
    "        [5,9]\n",
    "    ]\n",
    "    \n",
    ")"
   ]
  },
  {
   "cell_type": "code",
   "execution_count": 51,
   "id": "1197fa46-d810-46af-bbeb-f198d6c6ea63",
   "metadata": {},
   "outputs": [
    {
     "data": {
      "text/plain": [
       "\"it is <class 'numpy.ndarray'> and it dimenstion is 2 and it is shape is (2, 2)\""
      ]
     },
     "execution_count": 51,
     "metadata": {},
     "output_type": "execute_result"
    }
   ],
   "source": [
    "f'it is {type(ar1)} and it dimenstion is {ar1.ndim} and it is shape is {ar1.shape}'"
   ]
  },
  {
   "cell_type": "code",
   "execution_count": 52,
   "id": "2c13fd95-03da-4bd4-a5ef-56e2e2cf104c",
   "metadata": {},
   "outputs": [
    {
     "data": {
      "text/latex": [
       "$\\displaystyle \\left[\\begin{matrix}1 & 2\\\\5 & 9\\end{matrix}\\right]$"
      ],
      "text/plain": [
       "Matrix([\n",
       "[1, 2],\n",
       "[5, 9]])"
      ]
     },
     "metadata": {},
     "output_type": "display_data"
    }
   ],
   "source": [
    "# now convert to matrix we need to sympy mathmatics libarry \n",
    "mat= sp.Matrix(ar1)\n",
    "display.display(mat)"
   ]
  },
  {
   "cell_type": "code",
   "execution_count": 53,
   "id": "293eda93-9a2a-4c20-974b-6c03b3af826a",
   "metadata": {},
   "outputs": [
    {
     "data": {
      "text/latex": [
       "$\\displaystyle -1$"
      ],
      "text/plain": [
       "-1"
      ]
     },
     "execution_count": 53,
     "metadata": {},
     "output_type": "execute_result"
    }
   ],
   "source": [
    "# first find the determinant/adjoint of matrix\n",
    "# mathematically formula is \n",
    "# |a b|\n",
    "# |c d|\n",
    "# determinant is ad-bc\n",
    "# adjoint is  |d -b|\n",
    "#             |-c a|\n",
    "# so we can find the determinant of matrix by using det() function\n",
    "# and adjoint of matrix by using adjoint() function\n",
    "# so we can find the determinant of matrix by using det() function\n",
    "\n",
    "# determinant formula is by sypmy libary\n",
    "# det() function is used to find the determinant of matrix\n",
    "\n",
    "# adjoint formula is by sypmy libary\n",
    "# adjoint() function is used to find the adjoint of matrix\n",
    "\n",
    "# now we can find the determinant of matrix\n",
    "# for example we have matrix of 2*2\n",
    "\n",
    "# for example we have matrix of 2*2\n",
    "\n",
    "# for example we have matrix of 2*2\n",
    "\n",
    "\n"
   ]
  },
  {
   "cell_type": "code",
   "execution_count": 56,
   "id": "349f1e9d",
   "metadata": {},
   "outputs": [
    {
     "data": {
      "text/latex": [
       "$\\displaystyle \\left[\\begin{matrix}1 & 2\\\\5 & 9\\end{matrix}\\right]$"
      ],
      "text/plain": [
       "Matrix([\n",
       "[1, 2],\n",
       "[5, 9]])"
      ]
     },
     "execution_count": 56,
     "metadata": {},
     "output_type": "execute_result"
    }
   ],
   "source": [
    "  # it is 2*2 matrix formula is |a b| |c d|  determinant is ad-bc\n",
    "\n",
    "# For matrix |1 2| |5 9|, the determinant is calculated as 1*9 - 2*5 = 9 - 10 = -1\n",
    "mat\n",
    "mat.det()"
   ]
  },
  {
   "cell_type": "code",
   "execution_count": 57,
   "id": "dfe5cfe7",
   "metadata": {},
   "outputs": [
    {
     "data": {
      "text/latex": [
       "$\\displaystyle 1$"
      ],
      "text/plain": [
       "1"
      ]
     },
     "execution_count": 57,
     "metadata": {},
     "output_type": "execute_result"
    }
   ],
   "source": [
    "mat[0]"
   ]
  },
  {
   "cell_type": "code",
   "execution_count": 58,
   "id": "68344c07",
   "metadata": {},
   "outputs": [
    {
     "data": {
      "text/latex": [
       "$\\displaystyle 2$"
      ],
      "text/plain": [
       "2"
      ]
     },
     "execution_count": 58,
     "metadata": {},
     "output_type": "execute_result"
    }
   ],
   "source": [
    "mat[1]"
   ]
  },
  {
   "cell_type": "code",
   "execution_count": 60,
   "id": "6477cb0f",
   "metadata": {},
   "outputs": [
    {
     "data": {
      "text/latex": [
       "$\\displaystyle 5$"
      ],
      "text/plain": [
       "5"
      ]
     },
     "execution_count": 60,
     "metadata": {},
     "output_type": "execute_result"
    }
   ],
   "source": [
    "mat[2]"
   ]
  },
  {
   "cell_type": "code",
   "execution_count": 62,
   "id": "f7a8996d",
   "metadata": {},
   "outputs": [
    {
     "data": {
      "text/latex": [
       "$\\displaystyle -1$"
      ],
      "text/plain": [
       "-1"
      ]
     },
     "execution_count": 62,
     "metadata": {},
     "output_type": "execute_result"
    }
   ],
   "source": [
    "mat[0, 0] * mat[1, 1] - mat[0, 1] * mat[1, 0]\n"
   ]
  },
  {
   "cell_type": "code",
   "execution_count": 63,
   "id": "411acc61",
   "metadata": {},
   "outputs": [
    {
     "data": {
      "text/latex": [
       "$\\displaystyle 1$"
      ],
      "text/plain": [
       "1"
      ]
     },
     "execution_count": 63,
     "metadata": {},
     "output_type": "execute_result"
    }
   ],
   "source": [
    "mat[0,0]  # it is a value of a in matrix how ?\n",
    "# here 0 is row and 0 is column so it is a value of a in matrix \n",
    "# beacuse 0 is row and 1 is column so it is b value in matrix "
   ]
  },
  {
   "cell_type": "code",
   "execution_count": 66,
   "id": "b7df0c53",
   "metadata": {},
   "outputs": [
    {
     "data": {
      "text/latex": [
       "$\\displaystyle \\left[\\begin{matrix}1 & 2\\\\5 & 9\\end{matrix}\\right]$"
      ],
      "text/plain": [
       "Matrix([\n",
       "[1, 2],\n",
       "[5, 9]])"
      ]
     },
     "execution_count": 66,
     "metadata": {},
     "output_type": "execute_result"
    }
   ],
   "source": [
    "mat"
   ]
  },
  {
   "cell_type": "code",
   "execution_count": 67,
   "id": "74b1a84e",
   "metadata": {},
   "outputs": [
    {
     "data": {
      "text/latex": [
       "$\\displaystyle 1$"
      ],
      "text/plain": [
       "1"
      ]
     },
     "execution_count": 67,
     "metadata": {},
     "output_type": "execute_result"
    }
   ],
   "source": [
    "mat[0,0] # first row and first column value (a)=1=mat[0,0]"
   ]
  },
  {
   "cell_type": "markdown",
   "id": "ffdd0f88",
   "metadata": {},
   "source": []
  },
  {
   "cell_type": "code",
   "execution_count": 68,
   "id": "51049b3f",
   "metadata": {},
   "outputs": [
    {
     "data": {
      "text/latex": [
       "$\\displaystyle 2$"
      ],
      "text/plain": [
       "2"
      ]
     },
     "execution_count": 68,
     "metadata": {},
     "output_type": "execute_result"
    }
   ],
   "source": [
    "mat[0,1] # first row and second column value (b)=2=mat[0,1]"
   ]
  },
  {
   "cell_type": "code",
   "execution_count": 69,
   "id": "7e70fa0c",
   "metadata": {},
   "outputs": [
    {
     "data": {
      "text/latex": [
       "$\\displaystyle 5$"
      ],
      "text/plain": [
       "5"
      ]
     },
     "execution_count": 69,
     "metadata": {},
     "output_type": "execute_result"
    }
   ],
   "source": [
    "mat[1,0] # second row and first column value (c)=5=mat[1,0]\n"
   ]
  },
  {
   "cell_type": "code",
   "execution_count": 70,
   "id": "f82d2783",
   "metadata": {},
   "outputs": [
    {
     "data": {
      "text/latex": [
       "$\\displaystyle 9$"
      ],
      "text/plain": [
       "9"
      ]
     },
     "execution_count": 70,
     "metadata": {},
     "output_type": "execute_result"
    }
   ],
   "source": [
    "mat[1,1] # second row and second column value (d)=9=mat[1,1]"
   ]
  },
  {
   "cell_type": "code",
   "execution_count": 71,
   "id": "e0b4195c",
   "metadata": {},
   "outputs": [],
   "source": [
    "# so we can find the determinant of matrix by using det() function and adjoint of matrix by using adjoint() function\n",
    "# determinant definition :\n",
    "# The determinant of a matrix is a special number that can be calculated from a square matrix.\n",
    "# It is a very important value in linear algebra and used in many matrix operations and calculations.\n",
    "# The determinant of a matrix A is denoted det(A), det A, or |A|.\n",
    "# The determinant of a matrix is a scalar value that can be computed from the elements of a \n",
    "# square matrix and encodes certain properties of the linear transformation described by the matrix.\n",
    "# To find the determinant of a 2x2 matrix, calculate the product of the diagonal elements and subtract the product of the off-diagonal elements.\n",
    "# It have some properties \n",
    "# 1. det(AB) = det(A)det(B)\n",
    "# 2. det(A^T) = det(A)\n",
    "# 3. det(A^-1) = 1/det(A)\n",
    "# 4. det(A) = det(A^T)\n",
    "# 5. det(kA) = k^n det(A) where k is scalar and n is order of matrix \n",
    "# 6. det(I) = 1 where I is identity matrix  \n",
    "# 7. det(A) = 0 if A is singular matrix \n",
    "# 8. det(A) = product of eigen values of matrix A \n",
    "\n",
    "# adjoint definition :\n",
    "# The adjoint of a matrix is the transpose of the cofactor matrix.\n",
    "# The adjoint of a matrix is denoted as adj(A) or adj A.    \n",
    "# The adjoint of a matrix is also known as the adjugate of a matrix.\n",
    "# The adjoint of a matrix is used to find the inverse of a matrix.\n",
    "\n"
   ]
  },
  {
   "cell_type": "code",
   "execution_count": 73,
   "id": "1202641d",
   "metadata": {},
   "outputs": [
    {
     "data": {
      "text/latex": [
       "$\\displaystyle -43$"
      ],
      "text/plain": [
       "-43"
      ]
     },
     "execution_count": 73,
     "metadata": {},
     "output_type": "execute_result"
    }
   ],
   "source": [
    "mat[0,0] * mat[0,1]-mat[1,0] * mat[1,1]"
   ]
  },
  {
   "cell_type": "code",
   "execution_count": 74,
   "id": "91e0107d",
   "metadata": {},
   "outputs": [
    {
     "data": {
      "text/latex": [
       "$\\displaystyle -1$"
      ],
      "text/plain": [
       "-1"
      ]
     },
     "execution_count": 74,
     "metadata": {},
     "output_type": "execute_result"
    }
   ],
   "source": [
    "mat[0, 0] * mat[1, 1] - mat[0, 1] * mat[1, 0]"
   ]
  },
  {
   "cell_type": "code",
   "execution_count": null,
   "id": "32392b9b",
   "metadata": {},
   "outputs": [],
   "source": []
  },
  {
   "cell_type": "code",
   "execution_count": 88,
   "id": "d4900d61",
   "metadata": {},
   "outputs": [
    {
     "data": {
      "text/latex": [
       "$\\displaystyle \\left[\\begin{matrix}1 & 2 & 3\\\\4 & 5 & 6\\\\7 & 8 & 9\\end{matrix}\\right]$"
      ],
      "text/plain": [
       "Matrix([\n",
       "[1, 2, 3],\n",
       "[4, 5, 6],\n",
       "[7, 8, 9]])"
      ]
     },
     "execution_count": 88,
     "metadata": {},
     "output_type": "execute_result"
    }
   ],
   "source": [
    "thre=np.array(\n",
    "    [\n",
    "        [1,2,3],\n",
    "        [4,5,6],\n",
    "        [7,8,9]\n",
    "\n",
    "    ]   )\n",
    "\n",
    "m3=sp.Matrix(thre)\n",
    "m3"
   ]
  },
  {
   "cell_type": "code",
   "execution_count": 96,
   "id": "f50fcd45",
   "metadata": {},
   "outputs": [
    {
     "data": {
      "text/latex": [
       "$\\displaystyle 0$"
      ],
      "text/plain": [
       "0"
      ]
     },
     "execution_count": 96,
     "metadata": {},
     "output_type": "execute_result"
    }
   ],
   "source": [
    "m3[0,0] * m3[1,1] * m3[2,2] + m3[0,1] * m3[1,2] * m3[2,0] + m3[0,2] * m3[1,0] * m3[2,1] - m3[0,2] * m3[1,1] * m3[2,0] - m3[0,1] * m3[1,0] * m3[2,2] - m3[0,0] * m3[1,2] * m3[2,1]\n"
   ]
  },
  {
   "cell_type": "markdown",
   "id": "15ce4bc7",
   "metadata": {},
   "source": []
  },
  {
   "cell_type": "code",
   "execution_count": 97,
   "id": "da9fe0c7",
   "metadata": {},
   "outputs": [
    {
     "data": {
      "text/latex": [
       "$\\displaystyle 0$"
      ],
      "text/plain": [
       "0"
      ]
     },
     "execution_count": 97,
     "metadata": {},
     "output_type": "execute_result"
    }
   ],
   "source": [
    "m3.det()    "
   ]
  },
  {
   "cell_type": "code",
   "execution_count": null,
   "metadata": {},
   "outputs": [],
   "source": []
  },
  {
   "cell_type": "code",
   "execution_count": null,
   "id": "31b49104",
   "metadata": {},
   "outputs": [],
   "source": []
  },
  {
   "cell_type": "code",
   "execution_count": null,
   "id": "4a7f0800",
   "metadata": {},
   "outputs": [],
   "source": []
  },
  {
   "cell_type": "code",
   "execution_count": null,
   "metadata": {},
   "outputs": [],
   "source": []
  },
  {
   "cell_type": "code",
   "execution_count": null,
   "id": "d454dcf8",
   "metadata": {},
   "outputs": [],
   "source": []
  },
  {
   "cell_type": "code",
   "execution_count": null,
   "id": "de724b40",
   "metadata": {},
   "outputs": [],
   "source": []
  },
  {
   "cell_type": "code",
   "execution_count": null,
   "id": "84e1c968",
   "metadata": {},
   "outputs": [],
   "source": []
  },
  {
   "cell_type": "code",
   "execution_count": null,
   "id": "c5efc922",
   "metadata": {},
   "outputs": [],
   "source": []
  },
  {
   "cell_type": "code",
   "execution_count": null,
   "metadata": {},
   "outputs": [],
   "source": []
  },
  {
   "cell_type": "code",
   "execution_count": 85,
   "id": "ec623b9e",
   "metadata": {},
   "outputs": [],
   "source": [
    "# # Flatten the 3D array into a 2D array\n",
    "# flattened_arr = thrre_d_arr.reshape(thrre_d_arr.shape[0], -1)\n",
    "# sp.Matrix(flattened_arr)\n"
   ]
  },
  {
   "cell_type": "code",
   "execution_count": null,
   "id": "2f2b355e",
   "metadata": {},
   "outputs": [],
   "source": []
  }
 ],
 "metadata": {
  "kernelspec": {
   "display_name": "Python 3 (ipykernel)",
   "language": "python",
   "name": "python3"
  },
  "language_info": {
   "codemirror_mode": {
    "name": "ipython",
    "version": 3
   },
   "file_extension": ".py",
   "mimetype": "text/x-python",
   "name": "python",
   "nbconvert_exporter": "python",
   "pygments_lexer": "ipython3",
   "version": "3.12.4"
  }
 },
 "nbformat": 4,
 "nbformat_minor": 5
}
